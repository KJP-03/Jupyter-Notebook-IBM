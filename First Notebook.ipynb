{
    "cells": [
        {
            "cell_type": "markdown",
            "metadata": {},
            "source": "# My Jupyter Notebook on IBM Watson Studio"
        },
        {
            "cell_type": "markdown",
            "metadata": {},
            "source": "**Kristan Pablico**\nMedical Data Scientist"
        },
        {
            "cell_type": "markdown",
            "metadata": {},
            "source": "*I am interested in data science because I have always had a curiosity for the world and a knack for analysis. I like it when things come together and make sense; to me, data science is a way to bring together the information of the world into forms that we can properly analyze and understand.*"
        },
        {
            "cell_type": "markdown",
            "metadata": {},
            "source": "### The code in cell 5 prints the solution of 1+1 divided by 4."
        },
        {
            "cell_type": "code",
            "execution_count": 2,
            "metadata": {},
            "outputs": [
                {
                    "name": "stdout",
                    "output_type": "stream",
                    "text": "0.5\n"
                }
            ],
            "source": "number = (1+1)/4\nprint (number)"
        },
        {
            "cell_type": "markdown",
            "metadata": {},
            "source": "1. First item in the list\n2. Second item\n3. Third item\n\n- another list\n- this time it's bulleted\n- it also has three items\n\n|Here's a table|\n-----------------\n|it just has one column|\n|but it has three rows|\n|things are very nice in threes|"
        },
        {
            "cell_type": "code",
            "execution_count": null,
            "metadata": {},
            "outputs": [],
            "source": ""
        }
    ],
    "metadata": {
        "kernelspec": {
            "display_name": "Python 3.10",
            "language": "python",
            "name": "python3"
        },
        "language_info": {
            "codemirror_mode": {
                "name": "ipython",
                "version": 3
            },
            "file_extension": ".py",
            "mimetype": "text/x-python",
            "name": "python",
            "nbconvert_exporter": "python",
            "pygments_lexer": "ipython3",
            "version": "3.10.9"
        }
    },
    "nbformat": 4,
    "nbformat_minor": 1
}